{
 "cells": [
  {
   "cell_type": "markdown",
   "id": "20881ebd",
   "metadata": {},
   "source": [
    "# Open AI Functions\n",
    "\n",
    "Playing with Open AI Functions: https://openai.com/blog/function-calling-and-other-api-updates\n",
    "\n",
    "This update was released on `June 13, 2023`.\n",
    "\n",
    "To make the function calling easier, I am using [`ToolGPT`](https://github.com/tehruhn/ToolGPT)."
   ]
  },
  {
   "cell_type": "markdown",
   "id": "6d150818",
   "metadata": {},
   "source": [
    "### Import Dependencies"
   ]
  },
  {
   "cell_type": "code",
   "execution_count": 1,
   "id": "8fa8f6fc",
   "metadata": {},
   "outputs": [],
   "source": [
    "import os\n",
    "import json\n",
    "import openai\n",
    "import pandas as pd\n",
    "\n",
    "from dotenv import load_dotenv\n",
    "from entsoe import EntsoePandasClient\n",
    "from ToolGPT import ChatGPTWithFunctions\n",
    "\n",
    "from functions.crypto import get_crypto_peak_price\n",
    "from functions.entsoe_power import get_all_market_codes, market_area_to_market_code, calculate_mean_price\n",
    "from functions.my_machine import my_machine_os\n",
    "from functions.property_dataset import get_property_location_area_dataset"
   ]
  },
  {
   "cell_type": "markdown",
   "id": "ca7358a7",
   "metadata": {},
   "source": [
    "### Load and Set API Keys"
   ]
  },
  {
   "cell_type": "code",
   "execution_count": 2,
   "id": "172adf7b",
   "metadata": {},
   "outputs": [],
   "source": [
    "load_dotenv()\n",
    "openai.api_key = os.getenv(\"OPENAI_API_KEY\")\n",
    "client = EntsoePandasClient(api_key=os.getenv(\"ENTSOE_API_KEY\"))"
   ]
  },
  {
   "cell_type": "markdown",
   "id": "abc26fb8",
   "metadata": {},
   "source": [
    "# Prompting Open AI's Model\n",
    "\n",
    "Function calling is released for the following OpenAI models:\n",
    "\n",
    "- `gpt-4-0613`\n",
    "- `gpt-4-32k-0613`\n",
    "- `gpt-3.5-turbo-0613`\n",
    "\n",
    "In our case, we are going to test the new functionality on `gpt-3.5-turbo-0613`."
   ]
  },
  {
   "cell_type": "markdown",
   "id": "ee6f843d",
   "metadata": {},
   "source": [
    "# GPT-3.5 vs. GPT-3.5 with Functions"
   ]
  },
  {
   "cell_type": "markdown",
   "id": "c45173eb",
   "metadata": {},
   "source": [
    "## New/Recent Data\n",
    "\n",
    "The OpenAI models are trained on historical data up to September 2021, so how does it work when trying to ask for new or recent information?\n",
    "\n",
    "Question: `What was the peak price of Bitcoin yesterday?`"
   ]
  },
  {
   "cell_type": "code",
   "execution_count": 3,
   "id": "cfd8df13",
   "metadata": {},
   "outputs": [
    {
     "name": "stdout",
     "output_type": "stream",
     "text": [
      "I'm sorry, but I cannot provide real-time financial data as I am an AI language model and do not have access to real-time information. Please consult a reliable financial news source or cryptocurrency exchange for current Bitcoin prices and information.\n"
     ]
    }
   ],
   "source": [
    "prompt = \"What was the peak price of Bitcoin yesterday?\"\n",
    "\n",
    "chat_completion = openai.ChatCompletion.create(\n",
    "    model=\"gpt-3.5-turbo\",\n",
    "    messages=[{\"role\": \"user\", \"content\": prompt}])\n",
    "print(chat_completion.choices[0].message.content)"
   ]
  },
  {
   "cell_type": "code",
   "execution_count": 4,
   "id": "350848bb",
   "metadata": {},
   "outputs": [
    {
     "name": "stdout",
     "output_type": "stream",
     "text": [
      "What was the peak price of Bitcoin yesterday?\n",
      "Received FUNCTION_CALL signal\n",
      "{\n",
      "  \"cryptocurrency\": \"Bitcoin\"\n",
      "}\n",
      "The peak price of Bitcoin yesterday was $26,676.18.\n",
      "Received STOP signal\n",
      "None\n"
     ]
    }
   ],
   "source": [
    "prompt = \"What was the peak price of Bitcoin yesterday?\"\n",
    "\n",
    "wrapper = ChatGPTWithFunctions()\n",
    "ans = wrapper.prompt_with_functions(prompt, [\n",
    "    get_crypto_peak_price])\n",
    "print(ans)"
   ]
  },
  {
   "cell_type": "markdown",
   "id": "4409d418",
   "metadata": {},
   "source": [
    "## Device Specific Information\n",
    "\n",
    "You want to install new tool or software on your machine, but there exists multiple guides depending on your operating system or hardware profile.\n",
    "\n",
    "Question: `How do I install docker onto my physical machine?`\n"
   ]
  },
  {
   "cell_type": "code",
   "execution_count": 5,
   "id": "190be43c",
   "metadata": {},
   "outputs": [
    {
     "name": "stdout",
     "output_type": "stream",
     "text": [
      "As an AI language model, I cannot install software on your physical machine for you, but I can provide you with a general guide on how to install Docker on your physical machine.\n",
      "\n",
      "Follow these general steps:\n",
      "\n",
      "1. Check the minimum requirements for Docker on your operating system.\n",
      "2. Download the appropriate Docker installer for your operating system from the Docker website.\n",
      "3. Run the Docker installer, follow the on-screen instructions to complete the installation process.\n",
      "4. Start the Docker engine and check that it's properly installed and running by running the \"docker run hello-world\" command.\n",
      "5. If the hello-world image downloads and executes successfully, Docker is ready to use.\n",
      "\n",
      "Note: For more detailed instructions, refer to the Docker documentation that corresponds to your OS.\n"
     ]
    }
   ],
   "source": [
    "prompt = \"How do I install docker onto my physical machine?\"\n",
    "\n",
    "chat_completion = openai.ChatCompletion.create(\n",
    "    model=\"gpt-3.5-turbo\",\n",
    "    messages=[{\"role\": \"user\", \"content\": prompt}])\n",
    "print(chat_completion.choices[0].message.content)"
   ]
  },
  {
   "cell_type": "code",
   "execution_count": 6,
   "id": "379a31ea",
   "metadata": {},
   "outputs": [
    {
     "name": "stdout",
     "output_type": "stream",
     "text": [
      "How do I install docker onto my physical machine?\n",
      "Received FUNCTION_CALL signal\n",
      "{\n",
      "  \"not_used\": \"\"\n",
      "}\n",
      "My system is: Linux\n",
      "To install Docker on a Linux machine, you can follow these steps:\n",
      "\n",
      "1. Update the package index:\n",
      "   ```\n",
      "   sudo apt update\n",
      "   ```\n",
      "\n",
      "2. Install the necessary packages to allow apt to use a repository over HTTPS:\n",
      "   ```\n",
      "   sudo apt install apt-transport-https ca-certificates curl software-properties-common\n",
      "   ```\n",
      "\n",
      "3. Add the Docker GPG key:\n",
      "   ```\n",
      "   curl -fsSL https://download.docker.com/linux/ubuntu/gpg | sudo gpg --dearmor -o /usr/share/keyrings/docker-archive-keyring.gpg\n",
      "   ```\n",
      "\n",
      "4. Add the Docker repository:\n",
      "   ```\n",
      "   echo \"deb [arch=amd64 signed-by=/usr/share/keyrings/docker-archive-keyring.gpg] https://download.docker.com/linux/ubuntu $(lsb_release -cs) stable\" | sudo tee /etc/apt/sources.list.d/docker.list > /dev/null\n",
      "   ```\n",
      "\n",
      "5. Update the package index again:\n",
      "   ```\n",
      "   sudo apt update\n",
      "   ```\n",
      "\n",
      "6. Install Docker:\n",
      "   ```\n",
      "   sudo apt install docker-ce docker-ce-cli containerd.io\n",
      "   ```\n",
      "\n",
      "7. Verify that Docker is installed correctly by running the following command:\n",
      "   ```\n",
      "   sudo docker run hello-world\n",
      "   ```\n",
      "\n",
      "If you are using a different Linux distribution, the steps may vary slightly. You can refer to the official Docker documentation for more specific instructions for your distribution.\n",
      "\n",
      "Note: These instructions assume that you have administrative privileges on your machine.\n",
      "Received STOP signal\n",
      "None\n"
     ]
    }
   ],
   "source": [
    "prompt = \"How do I install docker onto my physical machine?\"\n",
    "\n",
    "wrapper = ChatGPTWithFunctions()\n",
    "ans = wrapper.prompt_with_functions(prompt, [\n",
    "    my_machine_os])\n",
    "print(ans)"
   ]
  },
  {
   "cell_type": "markdown",
   "id": "d652da1d",
   "metadata": {},
   "source": [
    "# Prompting Functions with Direct Answers\n",
    "\n",
    "In the next example, we're going to prompt questions and pass functions with simple answers to retrieve the results.\n",
    "\n",
    "Questions:\n",
    "1. `What is the average spot price of Trondheim from January 1st 2023 to January 15th 2023?`\n",
    "2. `Comparing the Trondheim and Oslo market areas, which one had the lowest average spot price from 2019 to 2022, and what were their respective average values?`\n",
    "3. `Comparing all the market areas, which one had the lowest average spot price from 2019 to 2022, and range them from cheapest to highest with their respective values?`"
   ]
  },
  {
   "cell_type": "code",
   "execution_count": 7,
   "id": "e6b1745f",
   "metadata": {},
   "outputs": [
    {
     "name": "stdout",
     "output_type": "stream",
     "text": [
      "What is the average spot price of Trondheim from January 1st 2023 to January 15th 2023?\n",
      "Received FUNCTION_CALL signal\n",
      "{\n",
      "  \"market_area\": \"Trondheim\"\n",
      "}\n",
      "Received FUNCTION_CALL signal\n",
      "{\n",
      "  \"market_code\": \"NO_3\",\n",
      "  \"start_date\": \"2023-01-01\",\n",
      "  \"end_date\": \"2023-01-15\"\n",
      "}\n",
      "2023-01-01 00:00:00+01:00    23.35\n",
      "2023-01-01 01:00:00+01:00    23.28\n",
      "2023-01-01 02:00:00+01:00    23.37\n",
      "2023-01-01 03:00:00+01:00    23.67\n",
      "2023-01-01 04:00:00+01:00    24.12\n",
      "                             ...  \n",
      "2023-01-14 20:00:00+01:00    59.47\n",
      "2023-01-14 21:00:00+01:00    51.98\n",
      "2023-01-14 22:00:00+01:00    42.12\n",
      "2023-01-14 23:00:00+01:00    35.32\n",
      "2023-01-15 00:00:00+01:00    27.40\n",
      "Freq: 60T, Length: 337, dtype: float64\n",
      "74.80759643916915\n",
      "<class 'pandas.core.series.Series'>\n",
      "The average spot price of Trondheim from January 1st 2023 to January 15th 2023 is 74.81.\n",
      "Received STOP signal\n",
      "None\n"
     ]
    }
   ],
   "source": [
    "prompt = \"What is the average spot price of Trondheim from January 1st 2023 to January 15th 2023?\"\n",
    "\n",
    "wrapper = ChatGPTWithFunctions()\n",
    "ans = wrapper.prompt_with_functions(prompt, [\n",
    "    market_area_to_market_code,\n",
    "    calculate_mean_price])\n",
    "print(ans)"
   ]
  },
  {
   "cell_type": "code",
   "execution_count": 8,
   "id": "b5e43113",
   "metadata": {},
   "outputs": [
    {
     "name": "stdout",
     "output_type": "stream",
     "text": [
      "Comparing the Trondheim and Oslo market areas, which one had the lowest average spot price from 2019 to 2022, and what were their respective average values?\n",
      "Received FUNCTION_CALL signal\n",
      "{\n",
      "  \"market_area\": \"Trondheim\"\n",
      "}\n",
      "Received FUNCTION_CALL signal\n",
      "{\n",
      "  \"market_area\": \"Oslo\"\n",
      "}\n",
      "Received FUNCTION_CALL signal\n",
      "{\n",
      "  \"market_code\": \"NO_3\",\n",
      "  \"start_date\": \"2019-01-01\",\n",
      "  \"end_date\": \"2022-12-31\"\n",
      "}\n",
      "2019-01-01 00:00:00+01:00    45.36\n",
      "2019-01-01 01:00:00+01:00    45.31\n",
      "2019-01-01 02:00:00+01:00    45.37\n",
      "2019-01-01 03:00:00+01:00    45.21\n",
      "2019-01-01 04:00:00+01:00    44.90\n",
      "                             ...  \n",
      "2022-12-30 20:00:00+01:00    24.01\n",
      "2022-12-30 21:00:00+01:00    23.49\n",
      "2022-12-30 22:00:00+01:00    23.39\n",
      "2022-12-30 23:00:00+01:00    23.21\n",
      "2022-12-31 00:00:00+01:00    19.94\n",
      "Length: 35041, dtype: float64\n",
      "32.74212836391655\n",
      "<class 'pandas.core.series.Series'>\n",
      "Received FUNCTION_CALL signal\n",
      "{\n",
      "  \"market_code\": \"NO_1\",\n",
      "  \"start_date\": \"2019-01-01\",\n",
      "  \"end_date\": \"2022-12-31\"\n",
      "}\n",
      "2019-01-01 00:00:00+01:00     48.77\n",
      "2019-01-01 01:00:00+01:00     49.25\n",
      "2019-01-01 02:00:00+01:00     49.17\n",
      "2019-01-01 03:00:00+01:00     48.37\n",
      "2019-01-01 04:00:00+01:00     47.19\n",
      "                              ...  \n",
      "2022-12-30 20:00:00+01:00    104.94\n",
      "2022-12-30 21:00:00+01:00    106.10\n",
      "2022-12-30 22:00:00+01:00     80.85\n",
      "2022-12-30 23:00:00+01:00      1.77\n",
      "2022-12-31 00:00:00+01:00     58.90\n",
      "Length: 35041, dtype: float64\n",
      "78.87352501355556\n",
      "<class 'pandas.core.series.Series'>\n",
      "From 2019 to 2022, the Trondheim market area had the lowest average spot price compared to the Oslo market area. The average spot price in Trondheim was 32.74 NOK, while the average spot price in Oslo was 78.87 NOK.\n",
      "Received STOP signal\n",
      "None\n"
     ]
    }
   ],
   "source": [
    "prompt = \"Comparing the Trondheim and Oslo market areas, which one had the lowest average spot price from 2019 to 2022, and what were their respective average values?\"\n",
    "\n",
    "wrapper = ChatGPTWithFunctions()\n",
    "ans = wrapper.prompt_with_functions(prompt, [\n",
    "    market_area_to_market_code,\n",
    "    calculate_mean_price])\n",
    "print(ans)"
   ]
  },
  {
   "cell_type": "code",
   "execution_count": 10,
   "id": "1c4ff185",
   "metadata": {},
   "outputs": [
    {
     "name": "stdout",
     "output_type": "stream",
     "text": [
      "Comparing all the market areas, which one had the lowest average spot price from 2019 to 2022, and range them from cheapest to highest with their respective values?\n",
      "Received FUNCTION_CALL signal\n",
      "{\n",
      "  \"not_used\": \"\"\n",
      "}\n",
      "Received FUNCTION_CALL signal\n",
      "{\n",
      "  \"market_code\": \"NO_1\",\n",
      "  \"start_date\": \"2019-01-01\",\n",
      "  \"end_date\": \"2022-12-31\"\n",
      "}\n",
      "2019-01-01 00:00:00+01:00     48.77\n",
      "2019-01-01 01:00:00+01:00     49.25\n",
      "2019-01-01 02:00:00+01:00     49.17\n",
      "2019-01-01 03:00:00+01:00     48.37\n",
      "2019-01-01 04:00:00+01:00     47.19\n",
      "                              ...  \n",
      "2022-12-30 20:00:00+01:00    104.94\n",
      "2022-12-30 21:00:00+01:00    106.10\n",
      "2022-12-30 22:00:00+01:00     80.85\n",
      "2022-12-30 23:00:00+01:00      1.77\n",
      "2022-12-31 00:00:00+01:00     58.90\n",
      "Length: 35041, dtype: float64\n",
      "78.87352501355556\n",
      "<class 'pandas.core.series.Series'>\n",
      "Received FUNCTION_CALL signal\n",
      "{\n",
      "  \"market_code\": \"NO_2\",\n",
      "  \"start_date\": \"2019-01-01\",\n",
      "  \"end_date\": \"2022-12-31\"\n",
      "}\n",
      "2019-01-01 00:00:00+01:00     48.77\n",
      "2019-01-01 01:00:00+01:00     49.25\n",
      "2019-01-01 02:00:00+01:00     49.17\n",
      "2019-01-01 03:00:00+01:00     48.37\n",
      "2019-01-01 04:00:00+01:00     47.19\n",
      "                              ...  \n",
      "2022-12-30 20:00:00+01:00    104.94\n",
      "2022-12-30 21:00:00+01:00    106.10\n",
      "2022-12-30 22:00:00+01:00     80.85\n",
      "2022-12-30 23:00:00+01:00      1.77\n",
      "2022-12-31 00:00:00+01:00     58.90\n",
      "Length: 35041, dtype: float64\n",
      "83.66287063725349\n",
      "<class 'pandas.core.series.Series'>\n",
      "Received FUNCTION_CALL signal\n",
      "{\n",
      "  \"market_code\": \"NO_3\",\n",
      "  \"start_date\": \"2019-01-01\",\n",
      "  \"end_date\": \"2022-12-31\"\n",
      "}\n",
      "2019-01-01 00:00:00+01:00    45.36\n",
      "2019-01-01 01:00:00+01:00    45.31\n",
      "2019-01-01 02:00:00+01:00    45.37\n",
      "2019-01-01 03:00:00+01:00    45.21\n",
      "2019-01-01 04:00:00+01:00    44.90\n",
      "                             ...  \n",
      "2022-12-30 20:00:00+01:00    24.01\n",
      "2022-12-30 21:00:00+01:00    23.49\n",
      "2022-12-30 22:00:00+01:00    23.39\n",
      "2022-12-30 23:00:00+01:00    23.21\n",
      "2022-12-31 00:00:00+01:00    19.94\n",
      "Length: 35041, dtype: float64\n",
      "32.74212836391655\n",
      "<class 'pandas.core.series.Series'>\n",
      "Received FUNCTION_CALL signal\n",
      "{\n",
      "  \"market_code\": \"NO_4\",\n",
      "  \"start_date\": \"2019-01-01\",\n",
      "  \"end_date\": \"2022-12-31\"\n",
      "}\n",
      "2019-01-01 00:00:00+01:00    45.36\n",
      "2019-01-01 01:00:00+01:00    45.31\n",
      "2019-01-01 02:00:00+01:00    45.37\n",
      "2019-01-01 03:00:00+01:00    45.21\n",
      "2019-01-01 04:00:00+01:00    44.90\n",
      "                             ...  \n",
      "2022-12-30 20:00:00+01:00    24.01\n",
      "2022-12-30 21:00:00+01:00    23.49\n",
      "2022-12-30 22:00:00+01:00    23.39\n",
      "2022-12-30 23:00:00+01:00    22.46\n",
      "2022-12-31 00:00:00+01:00    19.94\n",
      "Length: 35041, dtype: float64\n",
      "26.66302645472447\n",
      "<class 'pandas.core.series.Series'>\n",
      "Received FUNCTION_CALL signal\n",
      "{\n",
      "  \"market_code\": \"NO_5\",\n",
      "  \"start_date\": \"2019-01-01\",\n",
      "  \"end_date\": \"2022-12-31\"\n",
      "}\n",
      "2019-01-01 00:00:00+01:00     48.77\n",
      "2019-01-01 01:00:00+01:00     49.25\n",
      "2019-01-01 02:00:00+01:00     49.17\n",
      "2019-01-01 03:00:00+01:00     48.37\n",
      "2019-01-01 04:00:00+01:00     47.19\n",
      "                              ...  \n",
      "2022-12-30 20:00:00+01:00    104.94\n",
      "2022-12-30 21:00:00+01:00    106.10\n",
      "2022-12-30 22:00:00+01:00     80.85\n",
      "2022-12-30 23:00:00+01:00     69.33\n",
      "2022-12-31 00:00:00+01:00     79.64\n",
      "Length: 35041, dtype: float64\n",
      "78.70267115664507\n",
      "<class 'pandas.core.series.Series'>\n",
      "The market areas with their respective average spot prices from 2019 to 2022, ranked from cheapest to highest, are as follows:\n",
      "\n",
      "1. Market Area NO_4: Average spot price of 26.66302645472447\n",
      "2. Market Area NO_3: Average spot price of 32.74212836391655\n",
      "3. Market Area NO_5: Average spot price of 78.70267115664507\n",
      "4. Market Area NO_1: Average spot price of 78.87352501355556\n",
      "5. Market Area NO_2: Average spot price of 83.66287063725349\n",
      "Received STOP signal\n",
      "None\n"
     ]
    }
   ],
   "source": [
    "prompt = \"Comparing all the market areas, which one had the lowest average spot price from 2019 to 2022, and range them from cheapest to highest with their respective values?\"\n",
    "\n",
    "wrapper = ChatGPTWithFunctions()\n",
    "ans = wrapper.prompt_with_functions(prompt, [\n",
    "    get_all_market_codes,\n",
    "    market_area_to_market_code,\n",
    "    calculate_mean_price])\n",
    "print(ans)"
   ]
  },
  {
   "cell_type": "markdown",
   "id": "63a4a9b8",
   "metadata": {},
   "source": [
    "## Prompting Functions with Indirect Answer\n",
    "\n",
    "What about a situation where we do not have direct answers in the functions. Instead we e.g. have a DataFrame that is returned to the user, does the OpenAI model understand how to manipulate the data to obtain the wanted information?\n",
    "\n",
    "Questions:\n",
    "1. `Obtain a dataset from file containing a pandas dataframe with property listing information such as date, location, type, total price, number of bedrooms, size, and ad link. Read the file found in 'data/results.csv', and find out how many properties are listed in Oslo.`\n",
    "2. `Read the file found in 'data/results.csv', and find out which property in Trondheim has the most bedrooms.`"
   ]
  },
  {
   "cell_type": "code",
   "execution_count": 11,
   "id": "16c92ccb",
   "metadata": {},
   "outputs": [
    {
     "name": "stdout",
     "output_type": "stream",
     "text": [
      "Obtain a dataset from file containing a pandas dataframe with property listing information such as date, location, type, total price, number of bedrooms, size, and ad link. Read the file found in 'data/results.csv', and find out how many properties are listed in Oslo.\n",
      "Received FUNCTION_CALL signal\n",
      "{\n",
      "  \"filepath\": \"data/results.csv\",\n",
      "  \"location\": \"Oslo\"\n",
      "}\n"
     ]
    },
    {
     "name": "stderr",
     "output_type": "stream",
     "text": [
      "/home/fredrik/Documents/github/openai_functions/functions/property_dataset.py:6: DtypeWarning: Columns (35) have mixed types. Specify dtype option on import or set low_memory=False.\n",
      "  df = pd.read_csv(filepath)\n"
     ]
    },
    {
     "name": "stdout",
     "output_type": "stream",
     "text": [
      "There are 19,740 properties listed in Oslo.\n",
      "Received STOP signal\n",
      "None\n"
     ]
    }
   ],
   "source": [
    "prompt = \"Obtain a dataset from file containing a pandas dataframe with property listing information such as date, location, type, total price, number of bedrooms, size, and ad link. Read the file found in 'data/results.csv', and find out how many properties are listed in Oslo.\"\n",
    "\n",
    "wrapper = ChatGPTWithFunctions()\n",
    "ans = wrapper.prompt_with_functions(prompt, [\n",
    "    get_property_location_area_dataset])\n",
    "print(ans)"
   ]
  },
  {
   "cell_type": "code",
   "execution_count": 12,
   "id": "49d07f66",
   "metadata": {},
   "outputs": [
    {
     "name": "stdout",
     "output_type": "stream",
     "text": [
      "Read the file found in 'data/results.csv', and find out which property in Trondheim has the most bedrooms.\n",
      "Received FUNCTION_CALL signal\n",
      "{\n",
      "  \"filepath\": \"data/results.csv\",\n",
      "  \"location\": \"Trondheim\"\n",
      "}\n"
     ]
    },
    {
     "name": "stderr",
     "output_type": "stream",
     "text": [
      "/home/fredrik/Documents/github/openai_functions/functions/property_dataset.py:6: DtypeWarning: Columns (35) have mixed types. Specify dtype option on import or set low_memory=False.\n",
      "  df = pd.read_csv(filepath)\n"
     ]
    },
    {
     "name": "stdout",
     "output_type": "stream",
     "text": [
      "The property in Trondheim with the most bedrooms is a house in Finnås with 5 bedrooms.\n",
      "Received STOP signal\n",
      "None\n"
     ]
    }
   ],
   "source": [
    "prompt = \"Read the file found in 'data/results.csv', and find out which property in Trondheim has the most bedrooms.\"\n",
    "\n",
    "wrapper = ChatGPTWithFunctions()\n",
    "ans = wrapper.prompt_with_functions(prompt, [\n",
    "    get_property_location_area_dataset])\n",
    "print(ans)"
   ]
  },
  {
   "cell_type": "markdown",
   "id": "a33a71ed",
   "metadata": {},
   "source": [
    "### Looks good, but...\n",
    "\n",
    "Let's do some sanity checks!"
   ]
  },
  {
   "cell_type": "code",
   "execution_count": 13,
   "id": "4ea46511",
   "metadata": {},
   "outputs": [
    {
     "name": "stdout",
     "output_type": "stream",
     "text": [
      "Oslo: (3861, 7)\n",
      "Trondheim:\n",
      "date                                                                2023-05-05\n",
      "location                                                             Trondheim\n",
      "property_type_description                                             Enebolig\n",
      "price_total                     {'amount': 14863842.0, 'currency_code': 'NOK'}\n",
      "number_of_bedrooms                                                        16.0\n",
      "area_range                   {'description': 'size', 'size_from': 487.0, 's...\n",
      "ad_link                      https://www.finn.no/realestate/homes/ad.html?f...\n",
      "Name: 2405, dtype: object\n"
     ]
    },
    {
     "name": "stderr",
     "output_type": "stream",
     "text": [
      "/home/fredrik/Documents/github/openai_functions/functions/property_dataset.py:6: DtypeWarning: Columns (35) have mixed types. Specify dtype option on import or set low_memory=False.\n",
      "  df = pd.read_csv(filepath)\n"
     ]
    }
   ],
   "source": [
    "df = get_property_location_area_dataset('data/results.csv', '')\n",
    "\n",
    "df_oslo = df[df['location'] == 'Oslo']\n",
    "print(f'Oslo: {df_oslo.shape}')\n",
    "\n",
    "df_trd = df[df['location'] == 'Trondheim']\n",
    "df_trd = df_trd.loc[df_trd['number_of_bedrooms'].idxmax()]\n",
    "print(f'Trondheim:\\n{df_trd}')"
   ]
  },
  {
   "cell_type": "code",
   "execution_count": null,
   "id": "008c687d",
   "metadata": {},
   "outputs": [],
   "source": []
  }
 ],
 "metadata": {
  "kernelspec": {
   "display_name": "Python 3 (ipykernel)",
   "language": "python",
   "name": "python3"
  },
  "language_info": {
   "codemirror_mode": {
    "name": "ipython",
    "version": 3
   },
   "file_extension": ".py",
   "mimetype": "text/x-python",
   "name": "python",
   "nbconvert_exporter": "python",
   "pygments_lexer": "ipython3",
   "version": "3.11.2"
  }
 },
 "nbformat": 4,
 "nbformat_minor": 5
}
