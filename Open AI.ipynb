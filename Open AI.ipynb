{
 "cells": [
  {
   "cell_type": "code",
   "execution_count": 1,
   "id": "7a952a4f",
   "metadata": {},
   "outputs": [],
   "source": [
    "import os\n",
    "import openai\n",
    "\n",
    "from dotenv import load_dotenv\n",
    "from ToolGPT import ChatGPTWithFunctions\n",
    "\n",
    "from functions.crypto import get_crypto_peak_price\n",
    "from functions.my_machine import my_machine_os\n",
    "\n",
    "load_dotenv()\n",
    "openai.api_key = os.getenv(\"OPENAI_API_KEY\")"
   ]
  },
  {
   "cell_type": "markdown",
   "id": "abc26fb8",
   "metadata": {},
   "source": [
    "# Prompting Open AI's GPT `3.5-turbo` Model\n",
    "\n",
    "In our prompt we want to get some resent in\n"
   ]
  },
  {
   "cell_type": "code",
   "execution_count": 4,
   "id": "cfd8df13",
   "metadata": {},
   "outputs": [
    {
     "name": "stdout",
     "output_type": "stream",
     "text": [
      "I apologize, as an AI language model, I do not have real-time access to current market data. Kindly check reliable cryptocurrency exchanges or financial news websites for the latest updates on the peak price of Bitcoin yesterday.\n"
     ]
    }
   ],
   "source": [
    "prompt = \"What was the peak price of Bitcoin yesterday?\"\n",
    "chat_completion = openai.ChatCompletion.create(\n",
    "    model=\"gpt-3.5-turbo\",\n",
    "    messages=[{\"role\": \"user\", \"content\": prompt}])\n",
    "print(chat_completion.choices[0].message.content)"
   ]
  },
  {
   "cell_type": "code",
   "execution_count": 5,
   "id": "350848bb",
   "metadata": {},
   "outputs": [
    {
     "name": "stdout",
     "output_type": "stream",
     "text": [
      "What was the peak price of Bitcoin yesterday?\n",
      "Received FUNCTION_CALL signal\n",
      "{\n",
      "  \"cryptocurrency\": \"Bitcoin\"\n",
      "}\n",
      "The peak price of Bitcoin yesterday was $26,391.23.\n",
      "Received STOP signal\n",
      "None\n"
     ]
    }
   ],
   "source": [
    "prompt = \"What was the peak price of Bitcoin yesterday?\"\n",
    "wrapper = ChatGPTWithFunctions()\n",
    "ans = wrapper.prompt_with_functions(prompt, [get_crypto_peak_price])\n",
    "print(ans)"
   ]
  },
  {
   "cell_type": "code",
   "execution_count": 3,
   "id": "190be43c",
   "metadata": {},
   "outputs": [
    {
     "name": "stdout",
     "output_type": "stream",
     "text": [
      "As an AI language model, I don't have access to your specific machine. However, I can provide you with the general steps to install Docker on your machine:\n",
      "\n",
      "1. Go to the Docker website and download the appropriate installer for your operating system. \n",
      "2. Follow the installation instructions for your specific OS.\n",
      "3. Once installed, open a command prompt or terminal window and type \"docker version\" to ensure that Docker was installed correctly and that the daemon is running.\n",
      "\n",
      "Congratulations, you now have Docker installed on your machine!\n"
     ]
    }
   ],
   "source": [
    "prompt = \"How do I install docker onto my machine?\"\n",
    "chat_completion = openai.ChatCompletion.create(\n",
    "    model=\"gpt-3.5-turbo\",\n",
    "    messages=[{\"role\": \"user\", \"content\": prompt}])\n",
    "print(chat_completion.choices[0].message.content)"
   ]
  },
  {
   "cell_type": "code",
   "execution_count": 2,
   "id": "379a31ea",
   "metadata": {},
   "outputs": [
    {
     "name": "stdout",
     "output_type": "stream",
     "text": [
      "How do I install docker onto my machine?\n",
      "Received FUNCTION_CALL signal\n",
      "{\n",
      "  \"my_machine\": \"my machine\"\n",
      "}\n",
      "To install Docker on Linux, you can follow these steps:\n",
      "\n",
      "1. Update the package index on your machine:\n",
      "   ```\n",
      "   sudo apt update\n",
      "   ```\n",
      "\n",
      "2. Install the necessary packages to allow apt to use a repository over HTTPS:\n",
      "   ```\n",
      "   sudo apt install apt-transport-https ca-certificates curl software-properties-common\n",
      "   ```\n",
      "\n",
      "3. Add the official Docker GPG key:\n",
      "   ```\n",
      "   curl -fsSL https://download.docker.com/linux/ubuntu/gpg | sudo gpg --dearmor -o /usr/share/keyrings/docker-archive-keyring.gpg\n",
      "   ```\n",
      "\n",
      "4. Add the Docker repository to your system's sources.list:\n",
      "   ```\n",
      "   echo \"deb [arch=amd64 signed-by=/usr/share/keyrings/docker-archive-keyring.gpg] https://download.docker.com/linux/ubuntu $(lsb_release -cs) stable\" | sudo tee /etc/apt/sources.list.d/docker.list > /dev/null\n",
      "   ```\n",
      "\n",
      "5. Update the package index again:\n",
      "   ```\n",
      "   sudo apt update\n",
      "   ```\n",
      "\n",
      "6. Install Docker:\n",
      "   ```\n",
      "   sudo apt install docker-ce docker-ce-cli containerd.io\n",
      "   ```\n",
      "\n",
      "7. Verify that Docker is installed correctly by running the following command:\n",
      "   ```\n",
      "   sudo docker run hello-world\n",
      "   ```\n",
      "\n",
      "If you are using a different Linux distribution, the steps may vary slightly. You can refer to the official Docker documentation for more specific instructions for your distribution.\n",
      "\n",
      "Please note that these instructions assume you have administrative privileges on your machine.\n",
      "Received STOP signal\n",
      "None\n"
     ]
    }
   ],
   "source": [
    "prompt = \"How do I install docker onto my machine?\"\n",
    "wrapper = ChatGPTWithFunctions()\n",
    "ans = wrapper.prompt_with_functions(prompt, [my_machine_os])\n",
    "print(ans)"
   ]
  },
  {
   "cell_type": "code",
   "execution_count": null,
   "id": "e6b1745f",
   "metadata": {},
   "outputs": [],
   "source": []
  }
 ],
 "metadata": {
  "kernelspec": {
   "display_name": "Python 3 (ipykernel)",
   "language": "python",
   "name": "python3"
  },
  "language_info": {
   "codemirror_mode": {
    "name": "ipython",
    "version": 3
   },
   "file_extension": ".py",
   "mimetype": "text/x-python",
   "name": "python",
   "nbconvert_exporter": "python",
   "pygments_lexer": "ipython3",
   "version": "3.11.2"
  }
 },
 "nbformat": 4,
 "nbformat_minor": 5
}
